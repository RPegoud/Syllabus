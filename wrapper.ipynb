{
 "cells": [
  {
   "cell_type": "code",
   "execution_count": 13,
   "metadata": {},
   "outputs": [],
   "source": [
    "from typing import TypeVar\n",
    "\n",
    "import numpy as np\n",
    "from gymnasium import spaces\n",
    "import torch\n",
    "import gym\n",
    "from lasertag import Lasertag\n",
    "\n",
    "from syllabus.core import (\n",
    "    TaskWrapper,\n",
    "    PettingZooMultiProcessingSyncWrapper,\n",
    "    make_multiprocessing_curriculum,\n",
    ")\n",
    "from syllabus.task_space import TaskSpace\n",
    "from syllabus.curricula import DomainRandomization\n",
    "\n",
    "ObsType = TypeVar(\"ObsType\")\n",
    "ActionType = TypeVar(\"ActionType\")\n",
    "AgentID = TypeVar(\"AgentID\")"
   ]
  },
  {
   "cell_type": "code",
   "execution_count": 14,
   "metadata": {},
   "outputs": [],
   "source": [
    "env = Lasertag(n_agents=2)"
   ]
  },
  {
   "cell_type": "code",
   "execution_count": 15,
   "metadata": {},
   "outputs": [
    {
     "data": {
      "text/plain": [
       "[Discrete(5), Discrete(5)]"
      ]
     },
     "execution_count": 15,
     "metadata": {},
     "output_type": "execute_result"
    }
   ],
   "source": [
    "env.action_space"
   ]
  },
  {
   "cell_type": "code",
   "execution_count": 65,
   "metadata": {},
   "outputs": [
    {
     "data": {
      "text/plain": [
       "Dict('image': Box(0, 255, (2, 3, 5, 5), uint8))"
      ]
     },
     "execution_count": 65,
     "metadata": {},
     "output_type": "execute_result"
    }
   ],
   "source": [
    "env.observation_space"
   ]
  },
  {
   "cell_type": "code",
   "execution_count": 69,
   "metadata": {},
   "outputs": [
    {
     "data": {
      "text/plain": [
       "(2, 3, 5, 5)"
      ]
     },
     "execution_count": 69,
     "metadata": {},
     "output_type": "execute_result"
    }
   ],
   "source": [
    "obs = env.reset()[\"image\"]\n",
    "actions = {0: [1, 1], 1: [1, 1]}\n",
    "obs, reward, done, info = env.step(actions)\n",
    "obs[\"image\"].shape"
   ]
  },
  {
   "cell_type": "code",
   "execution_count": 84,
   "metadata": {},
   "outputs": [],
   "source": [
    "def _np_array_to_pz_dict(array: np.ndarray) -> dict[int : np.ndarray]:\n",
    "        \"\"\"\n",
    "        Returns a dictionary containing individual observations for each agent.\n",
    "        Assumes that the batch dimension represents individual agents.\n",
    "        \"\"\"\n",
    "        out = {}\n",
    "        for idx, i in enumerate(array):\n",
    "            out[idx] = i\n",
    "        return out\n",
    "\n",
    "def _singleton_to_pz_dict(value: bool) -> dict[int:bool]:\n",
    "    \"\"\"\n",
    "    Broadcasts the `done` and `trunc` flags to dictionaries keyed by agent id.\n",
    "    \"\"\"\n",
    "    return {idx: value for idx in range(2)}"
   ]
  },
  {
   "cell_type": "code",
   "execution_count": 94,
   "metadata": {},
   "outputs": [],
   "source": [
    "class LasertagParallelWrapper(TaskWrapper):\n",
    "    \"\"\"\n",
    "    Wrapper ensuring compatibility with the PettingZoo Parallel API.\n",
    "\n",
    "    Lasertag Environment:\n",
    "        * Action shape:  `n_agents` * `Discrete(5)`\n",
    "        * Observation shape: Dict('image': Box(0, 255, (`n_agents`, 3, 5, 5), uint8))\n",
    "    \"\"\"\n",
    "\n",
    "    def __init__(self, n_agents, *args, **kwargs):\n",
    "        super().__init__(*args, **kwargs)\n",
    "        self.n_agents = n_agents\n",
    "        self.task = None\n",
    "        self.episode_return = 0\n",
    "        self.task_space = TaskSpace(spaces.MultiDiscrete(np.array([[2], [5]])))\n",
    "        self.possible_agents = np.arange(self.n_agents)\n",
    "\n",
    "    def _np_array_to_pz_dict(self, array: np.ndarray) -> dict[int : np.ndarray]:\n",
    "        \"\"\"\n",
    "        Returns a dictionary containing individual observations for each agent.\n",
    "        Assumes that the batch dimension represents individual agents.\n",
    "        \"\"\"\n",
    "        out = {}\n",
    "        for idx, i in enumerate(array):\n",
    "            out[idx] = i\n",
    "        return out\n",
    "\n",
    "    def _singleton_to_pz_dict(self, value: bool) -> dict[int:bool]:\n",
    "        \"\"\"\n",
    "        Broadcasts the `done` and `trunc` flags to dictionaries keyed by agent id.\n",
    "        \"\"\"\n",
    "        return {idx: value for idx in range(self.n_agents)}\n",
    "\n",
    "    def reset(self) -> tuple[dict[AgentID, ObsType], dict[AgentID, dict]]:\n",
    "        \"\"\"\n",
    "        Resets the environment and returns a dictionary of observations\n",
    "        keyed by agent ID.\n",
    "        \"\"\"\n",
    "        obs = self.env.reset()\n",
    "        pz_obs = self._np_array_to_pz_dict(obs[\"image\"])\n",
    "\n",
    "        return pz_obs\n",
    "\n",
    "    def step(self, action: dict[AgentID, ActionType]) -> tuple[\n",
    "        dict[AgentID, ObsType],\n",
    "        dict[AgentID, float],\n",
    "        dict[AgentID, bool],\n",
    "        dict[AgentID, bool],\n",
    "        dict[AgentID, dict],\n",
    "    ]:\n",
    "        \"\"\"\n",
    "        Takes inputs in the PettingZoo (PZ) Parallel API format, performs a step and\n",
    "        returns outputs in PZ format.\n",
    "        \"\"\"\n",
    "        obs, rew, done, info = self.env.step(action)\n",
    "        obs = obs['image']\n",
    "        trunc = 0  # there is no `truncated` flag in this environment\n",
    "        self.task_completion = self._task_completion(obs, rew, done, trunc, info)\n",
    "        # convert outputs back to PZ format\n",
    "        obs, rew = tuple(map(self._np_array_to_pz_dict, [obs, rew]))\n",
    "        done, trunc, info = tuple(\n",
    "            map(self._singleton_to_pz_dict, [done, trunc, self.task_completion])\n",
    "        )\n",
    "\n",
    "        return self.observation(obs), rew, done, trunc, info"
   ]
  },
  {
   "cell_type": "code",
   "execution_count": 100,
   "metadata": {},
   "outputs": [
    {
     "name": "stderr",
     "output_type": "stream",
     "text": [
      "Exception in thread update:\n",
      "Traceback (most recent call last):\n",
      "  File \"c:\\Users\\ryanp\\AppData\\Local\\Programs\\Python\\Python310\\lib\\threading.py\", line 1016, in _bootstrap_inner\n"
     ]
    },
    {
     "name": "stderr",
     "output_type": "stream",
     "text": [
      "    self.run()\n",
      "  File \"c:\\Users\\ryanp\\AppData\\Local\\Programs\\Python\\Python310\\lib\\threading.py\", line 953, in run\n",
      "    self._target(*self._args, **self._kwargs)\n",
      "  File \"c:\\Users\\ryanp\\OneDrive\\Documents\\Syllabus-1\\syllabus\\core\\curriculum_sync_wrapper.py\", line 120, in _update_queues\n",
      "    new_tasks = self.task_space.list_tasks()[self.num_assigned_tasks:self.num_assigned_tasks + requested_tasks]\n",
      "  File \"c:\\Users\\ryanp\\OneDrive\\Documents\\Syllabus-1\\syllabus\\task_space\\task_space.py\", line 159, in list_tasks\n",
      "    elif isinstance(gym_space, MultiDiscrete):\n",
      "TypeError: 'NoneType' object is not iterable\n"
     ]
    }
   ],
   "source": [
    "if __name__ == \"__main__\":\n",
    "    \"\"\"ALGO PARAMS\"\"\"\n",
    "    device = torch.device(\"cuda\" if torch.cuda.is_available() else \"cpu\")\n",
    "    ent_coef = 0.1\n",
    "    vf_coef = 0.1\n",
    "    clip_coef = 0.1\n",
    "    gamma = 0.99\n",
    "    batch_size = 32\n",
    "    stack_size = 3\n",
    "    frame_size = (96, 96)\n",
    "    action_size = 3\n",
    "    max_cycles = 125\n",
    "    total_episodes = 100\n",
    "\n",
    "    # PLR Params\n",
    "    num_steps = 128\n",
    "\n",
    "    \"\"\" ENV SETUP \"\"\"\n",
    "    n_agents = 2\n",
    "    env = Lasertag(n_agents=n_agents)\n",
    "\n",
    "    \"\"\" CURRICULUM SETUP \"\"\"\n",
    "    env = LasertagParallelWrapper(env=env, n_agents=n_agents)\n",
    "    curriculum = DomainRandomization(env.task_space)\n",
    "    curriculum, task_queue, update_queue = make_multiprocessing_curriculum(curriculum)\n",
    "    env = PettingZooMultiProcessingSyncWrapper(env, task_queue, update_queue, task_space=env.task_space)"
   ]
  }
 ],
 "metadata": {
  "kernelspec": {
   "display_name": "Python 3",
   "language": "python",
   "name": "python3"
  },
  "language_info": {
   "codemirror_mode": {
    "name": "ipython",
    "version": 3
   },
   "file_extension": ".py",
   "mimetype": "text/x-python",
   "name": "python",
   "nbconvert_exporter": "python",
   "pygments_lexer": "ipython3",
   "version": "3.10.7"
  }
 },
 "nbformat": 4,
 "nbformat_minor": 2
}
